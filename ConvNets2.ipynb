{
  "cells": [
    {
      "cell_type": "markdown",
      "metadata": {
        "id": "view-in-github",
        "colab_type": "text"
      },
      "source": [
        "<a href=\"https://colab.research.google.com/github/Sam120900/Colab-Notebooks/blob/main/ConvNets2.ipynb\" target=\"_parent\"><img src=\"https://colab.research.google.com/assets/colab-badge.svg\" alt=\"Open In Colab\"/></a>"
      ]
    },
    {
      "cell_type": "code",
      "execution_count": null,
      "id": "78278380-945c-4676-9a70-6a3ef63f269c",
      "metadata": {
        "id": "78278380-945c-4676-9a70-6a3ef63f269c",
        "outputId": "f09fd447-8cdc-43d6-8f70-0d9fcd115130"
      },
      "outputs": [
        {
          "name": "stdout",
          "output_type": "stream",
          "text": [
            "Collecting opencv-python\n",
            "  Downloading opencv_python-4.5.5.64-cp36-abi3-win_amd64.whl (35.4 MB)\n",
            "Requirement already satisfied: numpy>=1.14.5 in c:\\users\\94716\\anaconda3\\lib\\site-packages (from opencv-python) (1.20.3)\n",
            "Installing collected packages: opencv-python\n",
            "Successfully installed opencv-python-4.5.5.64\n",
            "Note: you may need to restart the kernel to use updated packages.\n"
          ]
        }
      ],
      "source": [
        "pip install opencv-python"
      ]
    },
    {
      "cell_type": "code",
      "execution_count": null,
      "id": "006def0b-7a62-44f3-ad41-182435672c5b",
      "metadata": {
        "id": "006def0b-7a62-44f3-ad41-182435672c5b"
      },
      "outputs": [],
      "source": [
        "import tensorflow as tf\n",
        "import matplotlib.pyplot as plt\n",
        "import numpy as np"
      ]
    },
    {
      "cell_type": "code",
      "execution_count": null,
      "id": "0278eb3d-6916-4a17-b62a-c9761cf24d5f",
      "metadata": {
        "id": "0278eb3d-6916-4a17-b62a-c9761cf24d5f"
      },
      "outputs": [],
      "source": [
        "mnist = tf.keras.datasets.mnist"
      ]
    },
    {
      "cell_type": "code",
      "execution_count": null,
      "id": "c566eb44-ae11-4a90-a5b7-672092fb78e4",
      "metadata": {
        "id": "c566eb44-ae11-4a90-a5b7-672092fb78e4"
      },
      "outputs": [],
      "source": [
        "(x_train, y_train), (x_test, y_test) = mnist.load_data()"
      ]
    },
    {
      "cell_type": "code",
      "execution_count": null,
      "id": "b6bc2935-231b-4cad-8a78-a86588392463",
      "metadata": {
        "id": "b6bc2935-231b-4cad-8a78-a86588392463",
        "outputId": "4982f47e-e97b-401a-a076-d29b5e9e584c"
      },
      "outputs": [
        {
          "name": "stdout",
          "output_type": "stream",
          "text": [
            "(60000, 28, 28)\n",
            "(60000,)\n"
          ]
        }
      ],
      "source": [
        "print(x_train.shape)\n",
        "print(y_train.shape)"
      ]
    },
    {
      "cell_type": "code",
      "execution_count": null,
      "id": "ff208111-076c-40f2-a192-d1f3954c2c33",
      "metadata": {
        "id": "ff208111-076c-40f2-a192-d1f3954c2c33",
        "outputId": "1ffd2007-1103-4e2d-ee31-80aa8b185d88"
      },
      "outputs": [
        {
          "data": {
            "image/png": "[encoded data removed]",
            "text/plain": [
              "<Figure size 432x288 with 1 Axes>"
            ]
          },
          "metadata": {
            "needs_background": "light"
          },
          "output_type": "display_data"
        },
        {
          "data": {
            "image/png": "[encoded data removed]",
            "text/plain": [
              "<Figure size 432x288 with 1 Axes>"
            ]
          },
          "metadata": {
            "needs_background": "light"
          },
          "output_type": "display_data"
        }
      ],
      "source": [
        "plt.imshow(x_train[0])\n",
        "plt.show()\n",
        "\n",
        "plt.imshow(x_train[0], cmap=plt.cm.binary)\n",
        "plt.show()"
      ]
    },
    {
      "cell_type": "code",
      "execution_count": null,
      "id": "a630f499-d319-4155-aaf7-0b896597d372",
      "metadata": {
        "id": "a630f499-d319-4155-aaf7-0b896597d372",
        "outputId": "c2b6f945-d311-4710-8345-157faeb2726a"
      },
      "outputs": [
        {
          "name": "stdout",
          "output_type": "stream",
          "text": [
            "[[  0   0   0   0   0   0   0   0   0   0   0   0   0   0   0   0   0   0\n",
            "    0   0   0   0   0   0   0   0   0   0]\n",
            " [  0   0   0   0   0   0   0   0   0   0   0   0   0   0   0   0   0   0\n",
            "    0   0   0   0   0   0   0   0   0   0]\n",
            " [  0   0   0   0   0   0   0   0   0   0   0   0   0   0   0   0   0   0\n",
            "    0   0   0   0   0   0   0   0   0   0]\n",
            " [  0   0   0   0   0   0   0   0   0   0   0   0   0   0   0   0   0   0\n",
            "    0   0   0   0   0   0   0   0   0   0]\n",
            " [  0   0   0   0   0   0   0   0   0   0   0   0   0   0   0   0   0   0\n",
            "    0   0   0   0   0   0   0   0   0   0]\n",
            " [  0   0   0   0   0   0   0   0   0   0   0   0   3  18  18  18 126 136\n",
            "  175  26 166 255 247 127   0   0   0   0]\n",
            " [  0   0   0   0   0   0   0   0  30  36  94 154 170 253 253 253 253 253\n",
            "  225 172 253 242 195  64   0   0   0   0]\n",
            " [  0   0   0   0   0   0   0  49 238 253 253 253 253 253 253 253 253 251\n",
            "   93  82  82  56  39   0   0   0   0   0]\n",
            " [  0   0   0   0   0   0   0  18 219 253 253 253 253 253 198 182 247 241\n",
            "    0   0   0   0   0   0   0   0   0   0]\n",
            " [  0   0   0   0   0   0   0   0  80 156 107 253 253 205  11   0  43 154\n",
            "    0   0   0   0   0   0   0   0   0   0]\n",
            " [  0   0   0   0   0   0   0   0   0  14   1 154 253  90   0   0   0   0\n",
            "    0   0   0   0   0   0   0   0   0   0]\n",
            " [  0   0   0   0   0   0   0   0   0   0   0 139 253 190   2   0   0   0\n",
            "    0   0   0   0   0   0   0   0   0   0]\n",
            " [  0   0   0   0   0   0   0   0   0   0   0  11 190 253  70   0   0   0\n",
            "    0   0   0   0   0   0   0   0   0   0]\n",
            " [  0   0   0   0   0   0   0   0   0   0   0   0  35 241 225 160 108   1\n",
            "    0   0   0   0   0   0   0   0   0   0]\n",
            " [  0   0   0   0   0   0   0   0   0   0   0   0   0  81 240 253 253 119\n",
            "   25   0   0   0   0   0   0   0   0   0]\n",
            " [  0   0   0   0   0   0   0   0   0   0   0   0   0   0  45 186 253 253\n",
            "  150  27   0   0   0   0   0   0   0   0]\n",
            " [  0   0   0   0   0   0   0   0   0   0   0   0   0   0   0  16  93 252\n",
            "  253 187   0   0   0   0   0   0   0   0]\n",
            " [  0   0   0   0   0   0   0   0   0   0   0   0   0   0   0   0   0 249\n",
            "  253 249  64   0   0   0   0   0   0   0]\n",
            " [  0   0   0   0   0   0   0   0   0   0   0   0   0   0  46 130 183 253\n",
            "  253 207   2   0   0   0   0   0   0   0]\n",
            " [  0   0   0   0   0   0   0   0   0   0   0   0  39 148 229 253 253 253\n",
            "  250 182   0   0   0   0   0   0   0   0]\n",
            " [  0   0   0   0   0   0   0   0   0   0  24 114 221 253 253 253 253 201\n",
            "   78   0   0   0   0   0   0   0   0   0]\n",
            " [  0   0   0   0   0   0   0   0  23  66 213 253 253 253 253 198  81   2\n",
            "    0   0   0   0   0   0   0   0   0   0]\n",
            " [  0   0   0   0   0   0  18 171 219 253 253 253 253 195  80   9   0   0\n",
            "    0   0   0   0   0   0   0   0   0   0]\n",
            " [  0   0   0   0  55 172 226 253 253 253 253 244 133  11   0   0   0   0\n",
            "    0   0   0   0   0   0   0   0   0   0]\n",
            " [  0   0   0   0 136 253 253 253 212 135 132  16   0   0   0   0   0   0\n",
            "    0   0   0   0   0   0   0   0   0   0]\n",
            " [  0   0   0   0   0   0   0   0   0   0   0   0   0   0   0   0   0   0\n",
            "    0   0   0   0   0   0   0   0   0   0]\n",
            " [  0   0   0   0   0   0   0   0   0   0   0   0   0   0   0   0   0   0\n",
            "    0   0   0   0   0   0   0   0   0   0]\n",
            " [  0   0   0   0   0   0   0   0   0   0   0   0   0   0   0   0   0   0\n",
            "    0   0   0   0   0   0   0   0   0   0]]\n"
          ]
        }
      ],
      "source": [
        "#before normalization \n",
        "print(x_train[0])\n",
        "#print(x_train[0].shape)"
      ]
    },
    {
      "cell_type": "code",
      "execution_count": null,
      "id": "a4ae6a91-c223-4eb9-b339-a48d65636549",
      "metadata": {
        "id": "a4ae6a91-c223-4eb9-b339-a48d65636549"
      },
      "outputs": [],
      "source": [
        "#normalizing the data\n",
        "x_train = tf.keras.utils.normalize(x_train, axis=1)\n",
        "x_test = tf.keras.utils.normalize(x_test, axis=1)"
      ]
    },
    {
      "cell_type": "code",
      "execution_count": null,
      "id": "667a16cb-16a1-43b5-9324-ccdb30a1c7ab",
      "metadata": {
        "id": "667a16cb-16a1-43b5-9324-ccdb30a1c7ab",
        "outputId": "867755cb-a22a-4f54-c11a-bbabc5504648"
      },
      "outputs": [
        {
          "data": {
            "image/png": "[encoded data removed]",
            "text/plain": [
              "<Figure size 432x288 with 1 Axes>"
            ]
          },
          "metadata": {
            "needs_background": "light"
          },
          "output_type": "display_data"
        },
        {
          "data": {
            "image/png": "[encoded data removed]",
            "text/plain": [
              "<Figure size 432x288 with 1 Axes>"
            ]
          },
          "metadata": {
            "needs_background": "light"
          },
          "output_type": "display_data"
        }
      ],
      "source": [
        "plt.imshow(x_train[0])\n",
        "plt.show()\n",
        "\n",
        "plt.imshow(x_train[0], cmap=plt.cm.binary)\n",
        "plt.show()\n",
        "\n",
        "#you will see that aftr normalization, the colors have got less sharper"
      ]
    },
    {
      "cell_type": "code",
      "execution_count": null,
      "id": "01b7752c-75a8-42cd-a28f-e3efe72f19fd",
      "metadata": {
        "id": "01b7752c-75a8-42cd-a28f-e3efe72f19fd",
        "outputId": "257fd510-431c-42bd-b71f-83e25c8ada3d"
      },
      "outputs": [
        {
          "name": "stdout",
          "output_type": "stream",
          "text": [
            "5\n"
          ]
        }
      ],
      "source": [
        "print(y_train[0])"
      ]
    },
    {
      "cell_type": "code",
      "execution_count": null,
      "id": "70e44d33-15bf-447e-b3b9-612d7704f55c",
      "metadata": {
        "id": "70e44d33-15bf-447e-b3b9-612d7704f55c",
        "outputId": "a2ba0d8c-42a3-4b7b-f096-03f975d7a48a"
      },
      "outputs": [
        {
          "name": "stdout",
          "output_type": "stream",
          "text": [
            "Training sample dimentions:  (60000, 28, 28, 1)\n",
            "Testing sample dimentions:  (10000, 28, 28, 1)\n"
          ]
        }
      ],
      "source": [
        "#reshape images to include channel\n",
        "x_train = np.array(x_train).reshape(-1, 28, 28, 1)\n",
        "x_test = np.array(x_test).reshape(-1, 28, 28, 1)\n",
        "\n",
        "print(\"Training sample dimentions: \", x_train.shape)\n",
        "print(\"Testing sample dimentions: \", x_test.shape)"
      ]
    },
    {
      "cell_type": "code",
      "execution_count": null,
      "id": "75462181-7941-45fe-b6e8-b65a5c03e078",
      "metadata": {
        "id": "75462181-7941-45fe-b6e8-b65a5c03e078"
      },
      "outputs": [],
      "source": [
        "from tensorflow.keras.layers import Dense, MaxPooling2D, Conv2D, Flatten, Activation, Dropout\n",
        "\n",
        "model = tf.keras.models.Sequential()\n",
        "\n",
        "#first layer\n",
        "model.add(Conv2D(64, (3,3), input_shape = x_train.shape[1:])) #we can also write (28,28,1) for input shape\n",
        "model.add(Activation(\"relu\")) #to make it non linear. any value < 0 will be dropped. will not be allowed to go to the next layer\n",
        "model.add(MaxPooling2D(pool_size=(2,2))) #takes the maximum value of a 2x2 matrix of the previous layer\n",
        "\n",
        "#second conv layer\n",
        "model.add(Conv2D(64, (3,3))) #we can also write (28,28,1) for input shape\n",
        "model.add(Activation(\"relu\")) #to make it non linear. any value < 0 will be dropped. will not be allowed to go to the next layer\n",
        "model.add(MaxPooling2D(pool_size=(2,2))) #takes the maximum value of a 2x2 matrix of the previous layer\n",
        "\n",
        "#third layer\n",
        "model.add(Conv2D(64, (3,3))) #we can also write (28,28,1) for input shape\n",
        "model.add(Activation(\"relu\")) #to make it non linear. any value < 0 will be dropped. will not be allowed to go to the next layer\n",
        "model.add(MaxPooling2D(pool_size=(2,2))) #takes the maximum value of a 2x2 matrix of the previous layer\n",
        "\n",
        "#before final layer, this must be flattened (2D -> 1D convertion)\n",
        "model.add(Flatten())\n",
        "\n",
        "#fully connected layers\n",
        "model.add(Dense(64))\n",
        "model.add(Activation(\"relu\"))\n",
        "\n",
        "model.add(Dense(32))\n",
        "model.add(Activation(\"relu\"))\n",
        "\n",
        "#last layer. should have the same number of inputs as the number of outputs we have\n",
        "model.add(Dense(10))\n",
        "model.add(Activation(\"softmax\")) #activation changed. to get the class probabilities.\n",
        "\n",
        "#softmax for multi class\n",
        "#sigmoid for binary class\n"
      ]
    },
    {
      "cell_type": "code",
      "execution_count": null,
      "id": "cc1d05f5-d7e7-427d-81ba-7024c155d4f4",
      "metadata": {
        "id": "cc1d05f5-d7e7-427d-81ba-7024c155d4f4",
        "outputId": "1ba76a04-a6c4-45e3-f577-195ffd70ee15"
      },
      "outputs": [
        {
          "name": "stdout",
          "output_type": "stream",
          "text": [
            "Model: \"sequential_3\"\n",
            "_________________________________________________________________\n",
            " Layer (type)                Output Shape              Param #   \n",
            "=================================================================\n",
            " conv2d_4 (Conv2D)           (None, 26, 26, 64)        640       \n",
            "                                                                 \n",
            " activation_7 (Activation)   (None, 26, 26, 64)        0         \n",
            "                                                                 \n",
            " max_pooling2d_3 (MaxPooling  (None, 13, 13, 64)       0         \n",
            " 2D)                                                             \n",
            "                                                                 \n",
            " conv2d_5 (Conv2D)           (None, 11, 11, 64)        36928     \n",
            "                                                                 \n",
            " activation_8 (Activation)   (None, 11, 11, 64)        0         \n",
            "                                                                 \n",
            " max_pooling2d_4 (MaxPooling  (None, 5, 5, 64)         0         \n",
            " 2D)                                                             \n",
            "                                                                 \n",
            " conv2d_6 (Conv2D)           (None, 3, 3, 64)          36928     \n",
            "                                                                 \n",
            " activation_9 (Activation)   (None, 3, 3, 64)          0         \n",
            "                                                                 \n",
            " max_pooling2d_5 (MaxPooling  (None, 1, 1, 64)         0         \n",
            " 2D)                                                             \n",
            "                                                                 \n",
            " flatten_1 (Flatten)         (None, 64)                0         \n",
            "                                                                 \n",
            " dense_3 (Dense)             (None, 64)                4160      \n",
            "                                                                 \n",
            " activation_10 (Activation)  (None, 64)                0         \n",
            "                                                                 \n",
            " dense_4 (Dense)             (None, 32)                2080      \n",
            "                                                                 \n",
            " activation_11 (Activation)  (None, 32)                0         \n",
            "                                                                 \n",
            " dense_5 (Dense)             (None, 10)                330       \n",
            "                                                                 \n",
            " activation_12 (Activation)  (None, 10)                0         \n",
            "                                                                 \n",
            "=================================================================\n",
            "Total params: 81,066\n",
            "Trainable params: 81,066\n",
            "Non-trainable params: 0\n",
            "_________________________________________________________________\n"
          ]
        }
      ],
      "source": [
        "model.summary()"
      ]
    },
    {
      "cell_type": "code",
      "execution_count": null,
      "id": "7f2df2ea-cb7d-4dd5-aa21-846c476940a0",
      "metadata": {
        "id": "7f2df2ea-cb7d-4dd5-aa21-846c476940a0"
      },
      "outputs": [],
      "source": [
        "model.compile(loss='sparse_categorical_crossentropy', optimizer='adam', metrics=['accuracy'])"
      ]
    },
    {
      "cell_type": "code",
      "execution_count": null,
      "id": "ab03f099-1261-40e0-a638-213484fc8f5a",
      "metadata": {
        "id": "ab03f099-1261-40e0-a638-213484fc8f5a",
        "outputId": "60998ec3-8351-42d0-8d24-fb8bba9990e6"
      },
      "outputs": [
        {
          "name": "stdout",
          "output_type": "stream",
          "text": [
            "Epoch 1/5\n",
            "1313/1313 [==============================] - 35s 26ms/step - loss: 0.3436 - accuracy: 0.8918 - val_loss: 0.1387 - val_accuracy: 0.9563\n",
            "Epoch 2/5\n",
            "1313/1313 [==============================] - 37s 28ms/step - loss: 0.1080 - accuracy: 0.9671 - val_loss: 0.1151 - val_accuracy: 0.9646\n",
            "Epoch 3/5\n",
            "1313/1313 [==============================] - 37s 28ms/step - loss: 0.0754 - accuracy: 0.9762 - val_loss: 0.0990 - val_accuracy: 0.9696\n",
            "Epoch 4/5\n",
            "1313/1313 [==============================] - 38s 29ms/step - loss: 0.0598 - accuracy: 0.9812 - val_loss: 0.0686 - val_accuracy: 0.9791\n",
            "Epoch 5/5\n",
            "1313/1313 [==============================] - 38s 29ms/step - loss: 0.0490 - accuracy: 0.9841 - val_loss: 0.0612 - val_accuracy: 0.9812\n"
          ]
        },
        {
          "data": {
            "text/plain": [
              "<keras.callbacks.History at 0x23e52602610>"
            ]
          },
          "execution_count": 97,
          "metadata": {},
          "output_type": "execute_result"
        }
      ],
      "source": [
        "model.fit(x_train, y_train, epochs=5, validation_split=0.3)"
      ]
    },
    {
      "cell_type": "code",
      "execution_count": null,
      "id": "27ceef3d-72b8-4427-bc08-f644a6ba15ee",
      "metadata": {
        "id": "27ceef3d-72b8-4427-bc08-f644a6ba15ee",
        "outputId": "bb086b9d-7dbd-475e-e187-ff6feb827d27"
      },
      "outputs": [
        {
          "name": "stdout",
          "output_type": "stream",
          "text": [
            "313/313 [==============================] - 3s 9ms/step - loss: 0.0588 - accuracy: 0.9825\n",
            "Testing set Loss (10,000 sample data set):  0.05877241864800453\n",
            "Testing set accuracy:  0.9825000166893005\n"
          ]
        }
      ],
      "source": [
        "test_loss, test_accuracy = model.evaluate(x_test, y_test)\n",
        "print(\"Testing set Loss (10,000 sample data set): \", test_loss)\n",
        "print(\"Testing set accuracy: \", test_accuracy)"
      ]
    },
    {
      "cell_type": "code",
      "execution_count": null,
      "id": "7e0192d7-641f-4aa7-a75a-6765fdcad557",
      "metadata": {
        "id": "7e0192d7-641f-4aa7-a75a-6765fdcad557"
      },
      "outputs": [],
      "source": [
        "predictions = model.predict([x_test])"
      ]
    },
    {
      "cell_type": "code",
      "execution_count": null,
      "id": "40bfb047-534f-4053-8e84-84ac0629be46",
      "metadata": {
        "id": "40bfb047-534f-4053-8e84-84ac0629be46",
        "outputId": "892f974a-0d1e-4ec8-b442-7387f8fba608"
      },
      "outputs": [
        {
          "name": "stdout",
          "output_type": "stream",
          "text": [
            "[[1.3793751e-08 3.8068723e-05 2.2774773e-05 ... 9.9989164e-01\n",
            "  2.7942537e-08 1.4947161e-05]\n",
            " [6.0172797e-06 3.7954810e-06 9.9998343e-01 ... 3.2953110e-06\n",
            "  2.5060510e-06 1.4584116e-07]\n",
            " [2.3961686e-08 9.9989748e-01 1.9031295e-06 ... 3.6834474e-05\n",
            "  1.1534944e-06 1.0539910e-06]\n",
            " ...\n",
            " [1.6645220e-10 1.1786547e-08 2.6095377e-09 ... 2.1403750e-06\n",
            "  2.9410359e-09 3.0117330e-06]\n",
            " [7.6720380e-06 6.1032250e-07 6.1817990e-10 ... 2.2496469e-07\n",
            "  6.7895085e-06 3.8399999e-06]\n",
            " [6.0570484e-05 1.8366650e-06 7.2077582e-06 ... 6.9059993e-08\n",
            "  3.4935774e-06 8.2864247e-08]]\n",
            "(10000, 10)\n"
          ]
        }
      ],
      "source": [
        "print(predictions)\n",
        "print(predictions.shape)"
      ]
    },
    {
      "cell_type": "code",
      "execution_count": null,
      "id": "d91b6103-20eb-4cd5-b55d-33e506884435",
      "metadata": {
        "id": "d91b6103-20eb-4cd5-b55d-33e506884435",
        "outputId": "3670eda4-32d9-4a01-c795-796ebe075a45"
      },
      "outputs": [
        {
          "name": "stdout",
          "output_type": "stream",
          "text": [
            "7\n"
          ]
        }
      ],
      "source": [
        "print(np.argmax(predictions[0]))"
      ]
    },
    {
      "cell_type": "code",
      "execution_count": null,
      "id": "d7ec219b-e93e-4bda-9f21-292492a3ff82",
      "metadata": {
        "id": "d7ec219b-e93e-4bda-9f21-292492a3ff82",
        "outputId": "26017f3f-896a-46d9-ecd3-821a8e27b208"
      },
      "outputs": [
        {
          "data": {
            "image/png": "[encoded data removed]",
            "text/plain": [
              "<Figure size 432x288 with 1 Axes>"
            ]
          },
          "metadata": {
            "needs_background": "light"
          },
          "output_type": "display_data"
        }
      ],
      "source": [
        "plt.imshow(x_test[0])\n",
        "plt.show()"
      ]
    },
    {
      "cell_type": "code",
      "execution_count": null,
      "id": "03e6dbf1-0bf6-4a6d-af64-e580d13715f9",
      "metadata": {
        "id": "03e6dbf1-0bf6-4a6d-af64-e580d13715f9",
        "outputId": "a5a06222-4904-43c9-b3bf-51660826f3d2"
      },
      "outputs": [
        {
          "name": "stdout",
          "output_type": "stream",
          "text": [
            "8\n"
          ]
        }
      ],
      "source": [
        "print(np.argmax(predictions[128]))"
      ]
    },
    {
      "cell_type": "code",
      "execution_count": null,
      "id": "f3ebad1a-c257-4453-9436-f78949ec4b6e",
      "metadata": {
        "id": "f3ebad1a-c257-4453-9436-f78949ec4b6e",
        "outputId": "516572e9-0519-46ff-a130-4f63db97d296"
      },
      "outputs": [
        {
          "data": {
            "image/png": "[encoded data removed]",
            "text/plain": [
              "<Figure size 432x288 with 1 Axes>"
            ]
          },
          "metadata": {
            "needs_background": "light"
          },
          "output_type": "display_data"
        },
        {
          "name": "stdout",
          "output_type": "stream",
          "text": [
            "(28, 28, 1)\n"
          ]
        }
      ],
      "source": [
        "plt.imshow(x_test[128])\n",
        "plt.show()\n",
        "\n",
        "#print(x_test[128].shape)"
      ]
    },
    {
      "cell_type": "code",
      "execution_count": null,
      "id": "743b5380-eb2a-4ce2-8e15-10f92834e720",
      "metadata": {
        "id": "743b5380-eb2a-4ce2-8e15-10f92834e720"
      },
      "outputs": [],
      "source": [
        "import cv2"
      ]
    },
    {
      "cell_type": "code",
      "execution_count": null,
      "id": "815f2808-68a8-4da6-acb2-44d1cb398d54",
      "metadata": {
        "id": "815f2808-68a8-4da6-acb2-44d1cb398d54"
      },
      "outputs": [],
      "source": [
        "img = cv2.imread('C:\\\\Users\\\\94716\\\\Desktop\\\\420\\\\my projects\\\\number 8.png')"
      ]
    },
    {
      "cell_type": "code",
      "execution_count": null,
      "id": "f0d21380-113f-4eec-a24a-49a71c6ea07f",
      "metadata": {
        "id": "f0d21380-113f-4eec-a24a-49a71c6ea07f",
        "outputId": "5f1ccb5c-9257-418a-93f9-6fc0eca8e334"
      },
      "outputs": [
        {
          "data": {
            "image/png": "[encoded data removed]",
            "text/plain": [
              "<Figure size 432x288 with 1 Axes>"
            ]
          },
          "metadata": {
            "needs_background": "light"
          },
          "output_type": "display_data"
        },
        {
          "name": "stdout",
          "output_type": "stream",
          "text": [
            "(600, 600, 3)\n"
          ]
        }
      ],
      "source": [
        "plt.imshow(img)\n",
        "plt.show()\n",
        "\n",
        "print(img.shape)"
      ]
    },
    {
      "cell_type": "code",
      "execution_count": null,
      "id": "d4bd3100-68d1-4988-b341-eeb5e030966c",
      "metadata": {
        "id": "d4bd3100-68d1-4988-b341-eeb5e030966c"
      },
      "outputs": [],
      "source": [
        "#first we need to convert into grey \n",
        "grey = cv2.cvtColor(img, cv2.COLOR_BGR2GRAY)\n",
        "\n",
        "#the image we have given in is too large. we need to reshape\n",
        "resized = cv2.resize(grey, (28, 28), interpolation=cv2.INTER_AREA)"
      ]
    },
    {
      "cell_type": "code",
      "execution_count": null,
      "id": "3f3733d5-af4f-4669-94ce-99e4537d623d",
      "metadata": {
        "id": "3f3733d5-af4f-4669-94ce-99e4537d623d",
        "outputId": "5ca25b88-7f94-495f-e239-b3ab60a41648"
      },
      "outputs": [
        {
          "name": "stdout",
          "output_type": "stream",
          "text": [
            "(600, 600, 3)\n",
            "(600, 600)\n",
            "(28, 28)\n"
          ]
        }
      ],
      "source": [
        "print(img.shape) #the rgb image size\n",
        "print(grey.shape) #the greyscale image size\n",
        "print(resized.shape) #the reshapes image size"
      ]
    },
    {
      "cell_type": "code",
      "execution_count": null,
      "id": "70a8f68e-89bc-4268-a3a3-97b4ee681b0e",
      "metadata": {
        "id": "70a8f68e-89bc-4268-a3a3-97b4ee681b0e",
        "outputId": "95802843-01af-46e3-c943-128150243966"
      },
      "outputs": [
        {
          "name": "stdout",
          "output_type": "stream",
          "text": [
            "(28, 28)\n"
          ]
        },
        {
          "data": {
            "image/png": "[encoded data removed]",
            "text/plain": [
              "<Figure size 432x288 with 1 Axes>"
            ]
          },
          "metadata": {
            "needs_background": "light"
          },
          "output_type": "display_data"
        }
      ],
      "source": [
        "#now we need to normalize this too\n",
        "img_norm = tf.keras.utils.normalize(resized, axis=1)\n",
        "print(img_norm.shape)\n",
        "\n",
        "plt.imshow(img_norm)\n",
        "plt.show()"
      ]
    },
    {
      "cell_type": "code",
      "execution_count": null,
      "id": "f5b15f93-aa87-4684-8722-794b38310ae6",
      "metadata": {
        "id": "f5b15f93-aa87-4684-8722-794b38310ae6",
        "outputId": "cefdabac-fb99-49da-96cb-dfac433b3438"
      },
      "outputs": [
        {
          "name": "stdout",
          "output_type": "stream",
          "text": [
            "(1, 28, 28, 1)\n"
          ]
        }
      ],
      "source": [
        "#now we need to convert the 28x28 image we have, into 1x28x28x1, because that's what our layer will accept\n",
        "img_final = np.array(img_norm).reshape(-1, 28, 28, 1)\n",
        "print(img_final.shape)"
      ]
    },
    {
      "cell_type": "code",
      "execution_count": null,
      "id": "c378df2a-1911-4fe9-99d4-304d5cf1b874",
      "metadata": {
        "id": "c378df2a-1911-4fe9-99d4-304d5cf1b874"
      },
      "outputs": [],
      "source": [
        "#inverting the image\n",
        "img_final = cv2.bitwise_not(img_final)\n",
        "#now let's check if he model will work\n",
        "predictions = model.predict(img_final)"
      ]
    },
    {
      "cell_type": "code",
      "execution_count": null,
      "id": "af2174ab-2ac3-4d7f-b42f-f12f749c7373",
      "metadata": {
        "id": "af2174ab-2ac3-4d7f-b42f-f12f749c7373",
        "outputId": "2a3e35f2-5a33-436a-8989-d97f4589a32e"
      },
      "outputs": [
        {
          "name": "stdout",
          "output_type": "stream",
          "text": [
            "[[0.0000000e+00 1.0000000e+00 0.0000000e+00 2.5407008e-11 0.0000000e+00\n",
            "  2.6913533e-14 0.0000000e+00 0.0000000e+00 0.0000000e+00 0.0000000e+00]]\n"
          ]
        }
      ],
      "source": [
        "print(predictions)"
      ]
    },
    {
      "cell_type": "code",
      "execution_count": null,
      "id": "031d74be-c7e5-4c0f-8071-2f07aad34bd9",
      "metadata": {
        "id": "031d74be-c7e5-4c0f-8071-2f07aad34bd9",
        "outputId": "613ee988-dc9a-4e85-be19-613f7f864e17"
      },
      "outputs": [
        {
          "data": {
            "text/plain": [
              "1"
            ]
          },
          "execution_count": 285,
          "metadata": {},
          "output_type": "execute_result"
        }
      ],
      "source": [
        "np.argmax(predictions)"
      ]
    },
    {
      "cell_type": "code",
      "execution_count": null,
      "id": "4c1b4e72-a3bd-415a-ab55-e6291235fcf6",
      "metadata": {
        "id": "4c1b4e72-a3bd-415a-ab55-e6291235fcf6"
      },
      "outputs": [],
      "source": [
        ""
      ]
    },
    {
      "cell_type": "code",
      "execution_count": null,
      "id": "21e09168-9cdf-4f53-9b14-2729526a53ba",
      "metadata": {
        "id": "21e09168-9cdf-4f53-9b14-2729526a53ba"
      },
      "outputs": [],
      "source": [
        ""
      ]
    },
    {
      "cell_type": "code",
      "execution_count": null,
      "id": "49554d89-5ecd-4141-bcbd-bf8ea479c8e2",
      "metadata": {
        "id": "49554d89-5ecd-4141-bcbd-bf8ea479c8e2"
      },
      "outputs": [],
      "source": [
        ""
      ]
    }
  ],
  "metadata": {
    "kernelspec": {
      "display_name": "Python 3 (ipykernel)",
      "language": "python",
      "name": "python3"
    },
    "language_info": {
      "codemirror_mode": {
        "name": "ipython",
        "version": 3
      },
      "file_extension": ".py",
      "mimetype": "text/x-python",
      "name": "python",
      "nbconvert_exporter": "python",
      "pygments_lexer": "ipython3",
      "version": "3.9.7"
    },
    "colab": {
      "name": "ConvNets2.ipynb",
      "provenance": [],
      "include_colab_link": true
    }
  },
  "nbformat": 4,
  "nbformat_minor": 5
}